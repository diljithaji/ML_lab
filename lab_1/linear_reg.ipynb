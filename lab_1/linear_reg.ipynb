{
 "cells": [
  {
   "cell_type": "code",
   "execution_count": 1,
   "id": "494b041b",
   "metadata": {},
   "outputs": [
    {
     "name": "stdout",
     "output_type": "stream",
     "text": [
      "-125.67041198501872\n"
     ]
    }
   ],
   "source": [
    "import numpy as np\n",
    "\n",
    "x = np.array([0,1,2,3,3,5,5,6,7,7,10,5])\n",
    "y = np.array([96,85,82,74,95,68,76,58,65,75,50,84])\n",
    "\n",
    "\n",
    "s_x=0\n",
    "for val in x:\n",
    "    s_x+=val\n",
    "#print(s_x)\n",
    "\n",
    "s_y=0\n",
    "for val in y:\n",
    "    s_y+=val\n",
    "#print(s_y)\n",
    "\n",
    "nn=len(x)\n",
    "total_val_xy = 0\n",
    "total_val_xx = 0\n",
    "for i in range(nn):\n",
    "    total_val_xy += x[i] * y[i]\n",
    "    total_val_xx += x[i] ** 2\n",
    "    \n",
    "slope = ((nn * total_val_xy) - (s_x * s_y)) / ((nn * total_val_xx) - (s_x ** 2))\n",
    "intercept = (s_y - (slope * s_x)) / nn\n",
    "\n",
    "new_x = float(input(\"Enter a value of x: \"))\n",
    "new_y = slope * new_x + intercept\n",
    "print(new_y)\n",
    "    \n",
    "\n",
    "\n"
   ]
  },
  {
   "cell_type": "code",
   "execution_count": null,
   "id": "47f313d5",
   "metadata": {},
   "outputs": [],
   "source": []
  }
 ],
 "metadata": {
  "kernelspec": {
   "display_name": "Python 3",
   "language": "python",
   "name": "python3"
  },
  "language_info": {
   "codemirror_mode": {
    "name": "ipython",
    "version": 3
   },
   "file_extension": ".py",
   "mimetype": "text/x-python",
   "name": "python",
   "nbconvert_exporter": "python",
   "pygments_lexer": "ipython3",
   "version": "3.13.7"
  }
 },
 "nbformat": 4,
 "nbformat_minor": 5
}
